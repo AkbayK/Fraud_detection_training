{
 "cells": [
  {
   "cell_type": "markdown",
   "metadata": {},
   "source": [
    "Fraud detection"
   ]
  },
  {
   "cell_type": "code",
   "execution_count": 1,
   "metadata": {},
   "outputs": [],
   "source": [
    "#Our Tasks\n",
    "#-Explore the dataset/Visualize\n",
    "#-Decide which features are important\n",
    "#-Perform Machine Learning\n",
    "#-Test the model on the testing set"
   ]
  },
  {
   "cell_type": "code",
   "execution_count": 2,
   "metadata": {},
   "outputs": [],
   "source": [
    "import numpy as np"
   ]
  },
  {
   "cell_type": "code",
   "execution_count": 3,
   "metadata": {},
   "outputs": [],
   "source": [
    "import sklearn as sk"
   ]
  },
  {
   "cell_type": "code",
   "execution_count": 4,
   "metadata": {},
   "outputs": [],
   "source": [
    "import pandas as pd"
   ]
  },
  {
   "cell_type": "code",
   "execution_count": 5,
   "metadata": {},
   "outputs": [],
   "source": [
    "import matplotlib.pyplot as plt\n",
    "from sklearn.preprocessing import scale\n",
    "import random"
   ]
  },
  {
   "cell_type": "code",
   "execution_count": 6,
   "metadata": {},
   "outputs": [],
   "source": [
    "df = pd.read_csv('creditcard.csv',low_memory=False)"
   ]
  },
  {
   "cell_type": "code",
   "execution_count": 7,
   "metadata": {},
   "outputs": [],
   "source": [
    "df = df.sample(frac=1).reset_index(drop=True)"
   ]
  },
  {
   "cell_type": "code",
   "execution_count": 8,
   "metadata": {},
   "outputs": [
    {
     "data": {
      "text/html": [
       "<div>\n",
       "<style scoped>\n",
       "    .dataframe tbody tr th:only-of-type {\n",
       "        vertical-align: middle;\n",
       "    }\n",
       "\n",
       "    .dataframe tbody tr th {\n",
       "        vertical-align: top;\n",
       "    }\n",
       "\n",
       "    .dataframe thead th {\n",
       "        text-align: right;\n",
       "    }\n",
       "</style>\n",
       "<table border=\"1\" class=\"dataframe\">\n",
       "  <thead>\n",
       "    <tr style=\"text-align: right;\">\n",
       "      <th></th>\n",
       "      <th>Time</th>\n",
       "      <th>V1</th>\n",
       "      <th>V2</th>\n",
       "      <th>V3</th>\n",
       "      <th>V4</th>\n",
       "      <th>V5</th>\n",
       "      <th>V6</th>\n",
       "      <th>V7</th>\n",
       "      <th>V8</th>\n",
       "      <th>V9</th>\n",
       "      <th>...</th>\n",
       "      <th>V21</th>\n",
       "      <th>V22</th>\n",
       "      <th>V23</th>\n",
       "      <th>V24</th>\n",
       "      <th>V25</th>\n",
       "      <th>V26</th>\n",
       "      <th>V27</th>\n",
       "      <th>V28</th>\n",
       "      <th>Amount</th>\n",
       "      <th>Class</th>\n",
       "    </tr>\n",
       "  </thead>\n",
       "  <tbody>\n",
       "    <tr>\n",
       "      <th>0</th>\n",
       "      <td>34970.0</td>\n",
       "      <td>-1.973004</td>\n",
       "      <td>0.748433</td>\n",
       "      <td>1.254419</td>\n",
       "      <td>-2.276531</td>\n",
       "      <td>-0.077814</td>\n",
       "      <td>0.539931</td>\n",
       "      <td>-0.028845</td>\n",
       "      <td>0.474685</td>\n",
       "      <td>2.103192</td>\n",
       "      <td>...</td>\n",
       "      <td>-0.208863</td>\n",
       "      <td>0.041617</td>\n",
       "      <td>-0.357367</td>\n",
       "      <td>-1.330955</td>\n",
       "      <td>0.721771</td>\n",
       "      <td>-0.740563</td>\n",
       "      <td>-0.646160</td>\n",
       "      <td>-0.598687</td>\n",
       "      <td>13.29</td>\n",
       "      <td>0</td>\n",
       "    </tr>\n",
       "    <tr>\n",
       "      <th>1</th>\n",
       "      <td>76068.0</td>\n",
       "      <td>-0.435224</td>\n",
       "      <td>1.057604</td>\n",
       "      <td>1.705137</td>\n",
       "      <td>0.044827</td>\n",
       "      <td>-0.222780</td>\n",
       "      <td>-1.090344</td>\n",
       "      <td>0.703808</td>\n",
       "      <td>-0.086675</td>\n",
       "      <td>-0.417042</td>\n",
       "      <td>...</td>\n",
       "      <td>-0.207286</td>\n",
       "      <td>-0.534432</td>\n",
       "      <td>0.014727</td>\n",
       "      <td>0.692672</td>\n",
       "      <td>-0.238237</td>\n",
       "      <td>0.051022</td>\n",
       "      <td>0.266262</td>\n",
       "      <td>0.124244</td>\n",
       "      <td>0.99</td>\n",
       "      <td>0</td>\n",
       "    </tr>\n",
       "    <tr>\n",
       "      <th>2</th>\n",
       "      <td>63244.0</td>\n",
       "      <td>1.256427</td>\n",
       "      <td>-1.375582</td>\n",
       "      <td>0.558129</td>\n",
       "      <td>-1.383618</td>\n",
       "      <td>-1.659776</td>\n",
       "      <td>-0.318421</td>\n",
       "      <td>-1.114674</td>\n",
       "      <td>0.114380</td>\n",
       "      <td>-1.919942</td>\n",
       "      <td>...</td>\n",
       "      <td>-0.329450</td>\n",
       "      <td>-0.855962</td>\n",
       "      <td>0.202350</td>\n",
       "      <td>0.135699</td>\n",
       "      <td>-0.084536</td>\n",
       "      <td>-0.484834</td>\n",
       "      <td>0.024953</td>\n",
       "      <td>0.027651</td>\n",
       "      <td>92.00</td>\n",
       "      <td>0</td>\n",
       "    </tr>\n",
       "    <tr>\n",
       "      <th>3</th>\n",
       "      <td>84816.0</td>\n",
       "      <td>1.065121</td>\n",
       "      <td>-1.321902</td>\n",
       "      <td>-1.226933</td>\n",
       "      <td>-1.607977</td>\n",
       "      <td>1.161373</td>\n",
       "      <td>3.328580</td>\n",
       "      <td>-0.818309</td>\n",
       "      <td>0.751131</td>\n",
       "      <td>-0.973066</td>\n",
       "      <td>...</td>\n",
       "      <td>-0.630857</td>\n",
       "      <td>-1.973287</td>\n",
       "      <td>0.085141</td>\n",
       "      <td>0.985245</td>\n",
       "      <td>-0.031919</td>\n",
       "      <td>0.671400</td>\n",
       "      <td>-0.082715</td>\n",
       "      <td>0.044104</td>\n",
       "      <td>200.00</td>\n",
       "      <td>0</td>\n",
       "    </tr>\n",
       "    <tr>\n",
       "      <th>4</th>\n",
       "      <td>76683.0</td>\n",
       "      <td>1.054236</td>\n",
       "      <td>0.147613</td>\n",
       "      <td>0.602701</td>\n",
       "      <td>1.544653</td>\n",
       "      <td>-0.391698</td>\n",
       "      <td>-0.463819</td>\n",
       "      <td>0.174478</td>\n",
       "      <td>-0.097316</td>\n",
       "      <td>0.153014</td>\n",
       "      <td>...</td>\n",
       "      <td>-0.036318</td>\n",
       "      <td>0.075264</td>\n",
       "      <td>-0.037926</td>\n",
       "      <td>0.634021</td>\n",
       "      <td>0.599562</td>\n",
       "      <td>-0.351401</td>\n",
       "      <td>0.037692</td>\n",
       "      <td>0.029297</td>\n",
       "      <td>46.34</td>\n",
       "      <td>0</td>\n",
       "    </tr>\n",
       "  </tbody>\n",
       "</table>\n",
       "<p>5 rows × 31 columns</p>\n",
       "</div>"
      ],
      "text/plain": [
       "      Time        V1        V2        V3        V4        V5        V6  \\\n",
       "0  34970.0 -1.973004  0.748433  1.254419 -2.276531 -0.077814  0.539931   \n",
       "1  76068.0 -0.435224  1.057604  1.705137  0.044827 -0.222780 -1.090344   \n",
       "2  63244.0  1.256427 -1.375582  0.558129 -1.383618 -1.659776 -0.318421   \n",
       "3  84816.0  1.065121 -1.321902 -1.226933 -1.607977  1.161373  3.328580   \n",
       "4  76683.0  1.054236  0.147613  0.602701  1.544653 -0.391698 -0.463819   \n",
       "\n",
       "         V7        V8        V9  ...         V21       V22       V23  \\\n",
       "0 -0.028845  0.474685  2.103192  ...   -0.208863  0.041617 -0.357367   \n",
       "1  0.703808 -0.086675 -0.417042  ...   -0.207286 -0.534432  0.014727   \n",
       "2 -1.114674  0.114380 -1.919942  ...   -0.329450 -0.855962  0.202350   \n",
       "3 -0.818309  0.751131 -0.973066  ...   -0.630857 -1.973287  0.085141   \n",
       "4  0.174478 -0.097316  0.153014  ...   -0.036318  0.075264 -0.037926   \n",
       "\n",
       "        V24       V25       V26       V27       V28  Amount  Class  \n",
       "0 -1.330955  0.721771 -0.740563 -0.646160 -0.598687   13.29      0  \n",
       "1  0.692672 -0.238237  0.051022  0.266262  0.124244    0.99      0  \n",
       "2  0.135699 -0.084536 -0.484834  0.024953  0.027651   92.00      0  \n",
       "3  0.985245 -0.031919  0.671400 -0.082715  0.044104  200.00      0  \n",
       "4  0.634021  0.599562 -0.351401  0.037692  0.029297   46.34      0  \n",
       "\n",
       "[5 rows x 31 columns]"
      ]
     },
     "execution_count": 8,
     "metadata": {},
     "output_type": "execute_result"
    }
   ],
   "source": [
    "df.head()"
   ]
  },
  {
   "cell_type": "code",
   "execution_count": 9,
   "metadata": {},
   "outputs": [
    {
     "name": "stdout",
     "output_type": "stream",
     "text": [
      "492\n",
      "284315\n"
     ]
    }
   ],
   "source": [
    "fraud = df.loc[df['Class'] == 1]\n",
    "non_frauds = df.loc[df['Class'] == 0]\n",
    "print(len(fraud))\n",
    "print(len(non_frauds))"
   ]
  },
  {
   "cell_type": "code",
   "execution_count": 12,
   "metadata": {},
   "outputs": [
    {
     "data": {
      "image/png": "[encoded data removed]",
      "text/plain": [
       "<Figure size 432x288 with 1 Axes>"
      ]
     },
     "metadata": {
      "needs_background": "light"
     },
     "output_type": "display_data"
    }
   ],
   "source": [
    "ax = fraud.plot.scatter(x='Amount',y='Class',color='Orange',label='Fraud')\n",
    "non_frauds.plot.scatter(x='Amount',y='Class',color='Blue',label='Normal',ax=ax)\n",
    "plt.show()"
   ]
  },
  {
   "cell_type": "code",
   "execution_count": 15,
   "metadata": {},
   "outputs": [],
   "source": [
    "from sklearn import linear_model\n",
    "from sklearn.model_selection import train_test_split"
   ]
  },
  {
   "cell_type": "code",
   "execution_count": 16,
   "metadata": {},
   "outputs": [],
   "source": [
    "x = df.iloc[:, :-1]\n",
    "y = df['Class']\n",
    "\n",
    "X_train, X_test, y_train, y_test = train_test_split(x, y, test_size=0.35)"
   ]
  },
  {
   "cell_type": "code",
   "execution_count": 17,
   "metadata": {},
   "outputs": [
    {
     "name": "stdout",
     "output_type": "stream",
     "text": [
      "Score: 0.9992676785409749\n"
     ]
    }
   ],
   "source": [
    "logistic = linear_model.LogisticRegression(C=1e5)\n",
    "logistic.fit(X_train, y_train)\n",
    "print('Score:', logistic.score(X_test, y_test))"
   ]
  },
  {
   "cell_type": "code",
   "execution_count": 18,
   "metadata": {},
   "outputs": [
    {
     "name": "stdout",
     "output_type": "stream",
     "text": [
      "[0 0 0 ... 0 0 0]\n"
     ]
    }
   ],
   "source": [
    "y_predicted=np.array(logistic.predict(X_test))\n",
    "print(y_predicted)"
   ]
  },
  {
   "cell_type": "code",
   "execution_count": null,
   "metadata": {},
   "outputs": [],
   "source": []
  },
  {
   "cell_type": "code",
   "execution_count": null,
   "metadata": {},
   "outputs": [],
   "source": []
  },
  {
   "cell_type": "code",
   "execution_count": null,
   "metadata": {},
   "outputs": [],
   "source": []
  },
  {
   "cell_type": "code",
   "execution_count": null,
   "metadata": {},
   "outputs": [],
   "source": []
  },
  {
   "cell_type": "code",
   "execution_count": null,
   "metadata": {},
   "outputs": [],
   "source": []
  },
  {
   "cell_type": "code",
   "execution_count": null,
   "metadata": {},
   "outputs": [],
   "source": []
  },
  {
   "cell_type": "code",
   "execution_count": null,
   "metadata": {},
   "outputs": [],
   "source": []
  },
  {
   "cell_type": "code",
   "execution_count": null,
   "metadata": {},
   "outputs": [],
   "source": []
  },
  {
   "cell_type": "code",
   "execution_count": null,
   "metadata": {},
   "outputs": [],
   "source": []
  },
  {
   "cell_type": "code",
   "execution_count": null,
   "metadata": {},
   "outputs": [],
   "source": []
  },
  {
   "cell_type": "code",
   "execution_count": null,
   "metadata": {},
   "outputs": [],
   "source": []
  },
  {
   "cell_type": "code",
   "execution_count": null,
   "metadata": {},
   "outputs": [],
   "source": []
  },
  {
   "cell_type": "code",
   "execution_count": null,
   "metadata": {},
   "outputs": [],
   "source": []
  },
  {
   "cell_type": "code",
   "execution_count": null,
   "metadata": {},
   "outputs": [],
   "source": []
  },
  {
   "cell_type": "code",
   "execution_count": null,
   "metadata": {},
   "outputs": [],
   "source": []
  },
  {
   "cell_type": "code",
   "execution_count": null,
   "metadata": {},
   "outputs": [],
   "source": []
  },
  {
   "cell_type": "code",
   "execution_count": null,
   "metadata": {},
   "outputs": [],
   "source": []
  },
  {
   "cell_type": "code",
   "execution_count": null,
   "metadata": {},
   "outputs": [],
   "source": []
  },
  {
   "cell_type": "code",
   "execution_count": null,
   "metadata": {},
   "outputs": [],
   "source": []
  }
 ],
 "metadata": {
  "kernelspec": {
   "display_name": "Python 3",
   "language": "python",
   "name": "python3"
  },
  "language_info": {
   "codemirror_mode": {
    "name": "ipython",
    "version": 3
   },
   "file_extension": ".py",
   "mimetype": "text/x-python",
   "name": "python",
   "nbconvert_exporter": "python",
   "pygments_lexer": "ipython3",
   "version": "3.7.0"
  }
 },
 "nbformat": 4,
 "nbformat_minor": 2
}
